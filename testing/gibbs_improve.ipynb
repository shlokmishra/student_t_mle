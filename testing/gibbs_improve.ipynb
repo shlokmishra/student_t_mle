{
 "cells": [
  {
   "cell_type": "code",
   "execution_count": 4,
   "id": "b78fbad2",
   "metadata": {},
   "outputs": [],
   "source": [
    "import os\n",
    "import numpy as np\n",
    "import pandas as pd\n",
    "import argparse  \n",
    "import sampler_functions as sf\n",
    "import analysis as an\n"
   ]
  },
  {
   "cell_type": "code",
   "execution_count": 6,
   "id": "259c6e57",
   "metadata": {},
   "outputs": [
    {
     "name": "stdout",
     "output_type": "stream",
     "text": [
      "--- Generating initial data and finding MLE (μ*) ---\n",
      "Generated 20 data points with true μ = 10.0.\n",
      "Calculated MLE μ* = 9.8239\n",
      "--- Initializing sampler state ---\n",
      "Setup complete. Observed μ* = 9.8239\n"
     ]
    }
   ],
   "source": [
    "params = {\n",
    "    'm': 20,\n",
    "    'k': 2,\n",
    "    'mu_true': 10.0,\n",
    "    'prior_mean': 0.0,\n",
    "    'prior_std': 20.0,\n",
    "    'num_iterations_T': 30000,\n",
    "    'proposal_std_mu': 0.9,\n",
    "    'proposal_std_z': 0.07\n",
    "}\n",
    "\n",
    "# Generate the initial \"observed\" data and its MLE\n",
    "x_original, mu_star = sf.generate_initial_data(params)\n",
    "params['mu_star'] = mu_star\n",
    "\n",
    "# Add z_domain to params, as it depends on k\n",
    "z_domain_half_width = 1 / (2 * np.sqrt(params['k']))\n",
    "params['z_domain'] = (-z_domain_half_width, z_domain_half_width)\n",
    "\n",
    "# Initialize the sampler's starting state\n",
    "mu_0, x_0 = sf.initialize_sampler(params)\n",
    "\n",
    "print(f\"Setup complete. Observed μ* = {mu_star:.4f}\")\n",
    "\n"
   ]
  },
  {
   "cell_type": "code",
   "execution_count": null,
   "id": "4574266a",
   "metadata": {},
   "outputs": [],
   "source": []
  }
 ],
 "metadata": {
  "kernelspec": {
   "display_name": "venv",
   "language": "python",
   "name": "python3"
  },
  "language_info": {
   "codemirror_mode": {
    "name": "ipython",
    "version": 3
   },
   "file_extension": ".py",
   "mimetype": "text/x-python",
   "name": "python",
   "nbconvert_exporter": "python",
   "pygments_lexer": "ipython3",
   "version": "3.9.6"
  }
 },
 "nbformat": 4,
 "nbformat_minor": 5
}
